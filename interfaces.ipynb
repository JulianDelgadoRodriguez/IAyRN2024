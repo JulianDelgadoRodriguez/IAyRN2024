{
  "nbformat": 4,
  "nbformat_minor": 0,
  "metadata": {
    "colab": {
      "provenance": []
    },
    "kernelspec": {
      "name": "python3",
      "display_name": "Python 3"
    },
    "language_info": {
      "name": "python"
    }
  },
  "cells": [
    {
      "cell_type": "code",
      "execution_count": 5,
      "metadata": {
        "colab": {
          "base_uri": "https://localhost:8080/"
        },
        "id": "zOArxP41Ayp0",
        "outputId": "1d4f31b2-2af0-4d9b-fd0b-6a545a36615d"
      },
      "outputs": [
        {
          "output_type": "stream",
          "name": "stdout",
          "text": [
            "Tabla de datos:\n",
            "Columna 1: 160, Columna 2: 15.0\n",
            "Columna 1: 591, Columna 2: 69.9\n",
            "Columna 1: 114, Columna 2: 6.5\n",
            "Columna 1: 229, Columna 2: 22.4\n",
            "Columna 1: 230, Columna 2: 28.4\n",
            "Columna 1: 270, Columna 2: 65.9\n",
            "Columna 1: 128, Columna 2: 19.4\n",
            "Columna 1: 1657, Columna 2: 198.7\n",
            "Columna 1: 624, Columna 2: 38.8\n",
            "Columna 1: 1503, Columna 2: 138.2\n",
            "\n",
            "Resultados:\n",
            "Columna    Media           Desviación Estándar \n",
            "---------------------------------------------\n",
            "Columna 1  550.60          542.67              \n",
            "Columna 2  60.32           59.06               \n"
          ]
        }
      ],
      "source": [
        "class Estadisticas:\n",
        "    def __init__(self, datos):\n",
        "        self.datos = datos\n",
        "\n",
        "    def calcular_media(self):\n",
        "        if not self.datos:\n",
        "            return 0\n",
        "        suma = sum(fila['valor'] for fila in self.datos)\n",
        "        return suma / len(self.datos)\n",
        "\n",
        "    def calcular_desviacion_estandar(self):\n",
        "        if not self.datos:\n",
        "            return 0\n",
        "        media = self.calcular_media()\n",
        "        varianza = sum((fila['valor'] - media) ** 2 for fila in self.datos) / len(self.datos)\n",
        "        return varianza ** 0.5\n",
        "\n",
        "datos = [\n",
        "    {'columna1': 160, 'columna2': 15.0},\n",
        "    {'columna1': 591, 'columna2': 69.9},\n",
        "    {'columna1': 114, 'columna2': 6.5},\n",
        "    {'columna1': 229, 'columna2': 22.4},\n",
        "    {'columna1': 230, 'columna2': 28.4},\n",
        "    {'columna1': 270, 'columna2': 65.9},\n",
        "    {'columna1': 128, 'columna2': 19.4},\n",
        "    {'columna1': 1657, 'columna2': 198.7},\n",
        "    {'columna1': 624, 'columna2': 38.8},\n",
        "    {'columna1': 1503, 'columna2': 138.2},\n",
        "]\n",
        "\n",
        "if __name__ == \"__main__\":\n",
        "    datos_columna1 = [{'valor': fila['columna1']} for fila in datos]\n",
        "    datos_columna2 = [{'valor': fila['columna2']} for fila in datos]\n",
        "\n",
        "    print(\"Tabla de datos:\")\n",
        "    for fila in datos:\n",
        "        print(f\"Columna 1: {fila['columna1']}, Columna 2: {fila['columna2']}\")\n",
        "\n",
        "    estadisticas_columna1 = Estadisticas(datos_columna1)\n",
        "    media_columna1 = estadisticas_columna1.calcular_media()\n",
        "    desviacion_estandar_columna1 = estadisticas_columna1.calcular_desviacion_estandar()\n",
        "\n",
        "    estadisticas_columna2 = Estadisticas(datos_columna2)\n",
        "    media_columna2 = estadisticas_columna2.calcular_media()\n",
        "    desviacion_estandar_columna2 = estadisticas_columna2.calcular_desviacion_estandar()\n",
        "\n",
        "    print(\"\\nResultados:\")\n",
        "    print(f\"{'Columna':<10} {'Media':<15} {'Desviación Estándar':<20}\")\n",
        "    print(\"-\" * 45)\n",
        "    print(f\"{'Columna 1':<10} {media_columna1:<15.2f} {desviacion_estandar_columna1:<20.2f}\")\n",
        "    print(f\"{'Columna 2':<10} {media_columna2:<15.2f} {desviacion_estandar_columna2:<20.2f}\")\n"
      ]
    }
  ]
}