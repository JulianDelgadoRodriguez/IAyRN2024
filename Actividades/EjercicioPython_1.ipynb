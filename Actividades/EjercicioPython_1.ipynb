{
  "nbformat": 4,
  "nbformat_minor": 0,
  "metadata": {
    "colab": {
      "provenance": []
    },
    "kernelspec": {
      "name": "python3",
      "display_name": "Python 3"
    },
    "language_info": {
      "name": "python"
    }
  },
  "cells": [
    {
      "cell_type": "markdown",
      "source": [
        "Diseño de algoritmos en Python, Julián Javier Delgado Rodriguez 2109188 LMV N4"
      ],
      "metadata": {
        "id": "vcTsvwmaLdZK"
      }
    },
    {
      "cell_type": "markdown",
      "source": [
        "**Primer Ejercicio**"
      ],
      "metadata": {
        "id": "ZcNLtVzHOge5"
      }
    },
    {
      "cell_type": "code",
      "source": [
        "\n",
        "nombre= input(\"Cual es tu nombre? \")\n",
        "if nombre == \"ana\" or nombre == \"juan\" or nombre == \"pedro\":\n",
        " print(\"Adios\")\n",
        "else:\n",
        " print(\"Hola \" + nombre)"
      ],
      "metadata": {
        "colab": {
          "base_uri": "https://localhost:8080/"
        },
        "id": "7iRG-lqlLi0T",
        "outputId": "b3e76670-b6d3-4c67-bce7-3f8ee95c982c"
      },
      "execution_count": 127,
      "outputs": [
        {
          "output_type": "stream",
          "name": "stdout",
          "text": [
            "Cual es tu nombre? Julián\n",
            "Hola Julián\n"
          ]
        }
      ]
    },
    {
      "cell_type": "markdown",
      "source": [
        "**Segundo Ejercicio**\n"
      ],
      "metadata": {
        "id": "_PM8n_CwOqb5"
      }
    },
    {
      "cell_type": "code",
      "source": [
        "lista = input(\"Ingresa los elementos de la lista separados por comas por favor: \")\n",
        "print(lista[::-1])\n"
      ],
      "metadata": {
        "colab": {
          "base_uri": "https://localhost:8080/"
        },
        "id": "ot9y1aMbOuE1",
        "outputId": "72056d5d-abf7-45b0-cfbc-ae9bd1658572"
      },
      "execution_count": 128,
      "outputs": [
        {
          "output_type": "stream",
          "name": "stdout",
          "text": [
            "Ingresa los elementos de la lista separados por comas por favor: 2,6,8,9,2,1\n",
            "1,2,9,8,6,2\n"
          ]
        }
      ]
    },
    {
      "cell_type": "markdown",
      "source": [
        "**Tercer Ejercicio**"
      ],
      "metadata": {
        "id": "UEKhRpppRwlE"
      }
    },
    {
      "cell_type": "code",
      "source": [
        "x=0\n",
        "y=1\n",
        "z=0\n",
        "\n",
        "n=int(input(\"Cuantos números de la serie de Fibonacci deseas imprimir? \"))\n",
        "print(\"1\")\n",
        "\n",
        "for i in range(1,n):\n",
        "    z=x+y\n",
        "    print(f\"{z}\")\n",
        "    x=y\n",
        "    y=z"
      ],
      "metadata": {
        "colab": {
          "base_uri": "https://localhost:8080/"
        },
        "id": "pinJf_boWKJn",
        "outputId": "ca484d8f-be38-4e8a-d373-d2e4f696fc05"
      },
      "execution_count": 129,
      "outputs": [
        {
          "output_type": "stream",
          "name": "stdout",
          "text": [
            "Cuantos números de la serie de Fibonacci deseas imprimir? 8\n",
            "1\n",
            "1\n",
            "2\n",
            "3\n",
            "5\n",
            "8\n",
            "13\n",
            "21\n"
          ]
        }
      ]
    },
    {
      "cell_type": "markdown",
      "source": [
        "**Cuarto Ejercicio**"
      ],
      "metadata": {
        "id": "75pNCSzFXakN"
      }
    },
    {
      "cell_type": "code",
      "source": [
        "import random\n",
        "m= random.randrange(100)\n",
        "intentos=0\n",
        "\n",
        "while intentos<100:\n",
        "  n=input(\"ingresa un numero: \")\n",
        "  n=int(n)\n",
        "  if n < m:\n",
        "    print(\"El numero que intentas adivinar es mayor\")\n",
        "  if n> m:\n",
        "    print(\"El numero que intentas adivinar es menor\")\n",
        "  if n == m:\n",
        "    break\n",
        "\n",
        "if n == m:\n",
        "  print(\"Felicidades, acertaste el numero correcto!!!!!\")\n",
        "\n"
      ],
      "metadata": {
        "colab": {
          "base_uri": "https://localhost:8080/"
        },
        "id": "Gnq-aHjvXdi0",
        "outputId": "a982a767-c24c-413b-d6f2-839170963ac3"
      },
      "execution_count": 130,
      "outputs": [
        {
          "output_type": "stream",
          "name": "stdout",
          "text": [
            "ingresa un numero: 8\n",
            "El numero que intentas adivinar es mayor\n",
            "ingresa un numero: 64\n",
            "El numero que intentas adivinar es mayor\n",
            "ingresa un numero: 72\n",
            "El numero que intentas adivinar es menor\n",
            "ingresa un numero: 68\n",
            "El numero que intentas adivinar es mayor\n",
            "ingresa un numero: 69\n",
            "El numero que intentas adivinar es mayor\n",
            "ingresa un numero: 70\n",
            "Felicidades, acertaste el numero correcto!!!!!\n"
          ]
        }
      ]
    },
    {
      "cell_type": "markdown",
      "source": [
        "**Quinto Ejercicio**"
      ],
      "metadata": {
        "id": "32bEX55-eayz"
      }
    },
    {
      "cell_type": "code",
      "source": [
        "\n",
        "s=input(\"Ingresa el limite inferior del rango:\")\n",
        "\n",
        "s=int(s)\n",
        "m=input(\"Ingresa el limite superior del rango:\")\n",
        "\n",
        "m=int(m)\n",
        "def es_primo(n):\n",
        "  if n<2:\n",
        "    return False\n",
        "  for i in range(2,n):\n",
        "    if n % i == 0:\n",
        "      return False\n",
        "  return True\n",
        "\n",
        "primos=[x for x in range(s,m) if es_primo(x)]\n",
        "print(f\"Los números primos en ese rango son:{primos}\")\n"
      ],
      "metadata": {
        "colab": {
          "base_uri": "https://localhost:8080/"
        },
        "id": "C3ED7jEQec2P",
        "outputId": "24710ad8-f485-4b56-e2dc-63d774f50951"
      },
      "execution_count": 131,
      "outputs": [
        {
          "output_type": "stream",
          "name": "stdout",
          "text": [
            "Ingresa el limite inferior del rango:15\n",
            "Ingresa el limite superior del rango:38\n",
            "Los números primos en ese rango son:[17, 19, 23, 29, 31, 37]\n"
          ]
        }
      ]
    },
    {
      "cell_type": "markdown",
      "source": [
        "**Sexto Ejercicio**"
      ],
      "metadata": {
        "id": "Z95xXoWGodfK"
      }
    },
    {
      "cell_type": "code",
      "source": [
        "x=input(\"Ingresa el primer numero: \")\n",
        "x=int(x)\n",
        "y=input(\"Ingresa el segundo numero: \")\n",
        "y=int(y)\n",
        "\n",
        "suma= x + y\n",
        "print(\"La suma de los dos números es:\")\n",
        "print(suma)\n",
        "\n",
        "print(\"La resta de los dos números es:\")\n",
        "resta= x - y\n",
        "print(resta)\n",
        "\n",
        "print(\"La multiplicación de los dos números es:\")\n",
        "multiplicacion= x * y\n",
        "print(multiplicacion)\n",
        "\n",
        "print(\"La división de los dos números es:\")\n",
        "division= x / y\n",
        "print(division)\n"
      ],
      "metadata": {
        "colab": {
          "base_uri": "https://localhost:8080/"
        },
        "id": "EoCgSrwFogHt",
        "outputId": "aabf2b0f-1e2a-4852-af76-082de5c1dac2"
      },
      "execution_count": 132,
      "outputs": [
        {
          "output_type": "stream",
          "name": "stdout",
          "text": [
            "Ingresa el primer numero: 6\n",
            "Ingresa el segundo numero: 2\n",
            "La suma de los dos números es:\n",
            "8\n",
            "La resta de los dos números es:\n",
            "4\n",
            "La multiplicación de los dos números es:\n",
            "12\n",
            "La división de los dos números es:\n",
            "3.0\n"
          ]
        }
      ]
    }
  ]
}